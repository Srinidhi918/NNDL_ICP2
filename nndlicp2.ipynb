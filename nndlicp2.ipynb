{
 "cells": [
  {
   "cell_type": "code",
   "execution_count": 5,
   "id": "642d3a34-bdad-4b5b-8134-3d975fb44597",
   "metadata": {},
   "outputs": [
    {
     "name": "stdin",
     "output_type": "stream",
     "text": [
      "Enter your first Name:  srinidhi\n",
      "Enter your last Name:  reddy\n"
     ]
    },
    {
     "name": "stdout",
     "output_type": "stream",
     "text": [
      "Your full name is  srinidhi reddy\n"
     ]
    },
    {
     "name": "stdin",
     "output_type": "stream",
     "text": [
      "Enter a string to print alternate characters:  srinidhireddy\n"
     ]
    },
    {
     "name": "stdout",
     "output_type": "stream",
     "text": [
      "Alternative characters are siihrdy\n"
     ]
    }
   ],
   "source": [
    "# method to print full name by combining firstname and lastname\n",
    "def full__Name(fName, lName):\n",
    "    Full_name = first__Name + \" \" + last__Name\n",
    "    print(\"Your full name is \", Full_name)\n",
    "\n",
    "# method to print alternative characters of a string\n",
    "def string_alternative(str):\n",
    "    print(\"Alternative characters are \" + str[::2])\n",
    "\n",
    "if __name__ == \"__main__\":\n",
    "    first__Name = input(\"Enter your first Name: \")\n",
    "    last__Name = input(\"Enter your last Name: \")\n",
    "    full__Name(first__Name, last__Name)\n",
    "    str = input(\"Enter a string to print alternate characters: \")\n",
    "    string_alternative(str)"
   ]
  },
  {
   "cell_type": "code",
   "execution_count": 2,
   "id": "ba592542-0af5-441e-9660-d20cdee73464",
   "metadata": {},
   "outputs": [
    {
     "name": "stdin",
     "output_type": "stream",
     "text": [
      "enter first name :  mahathi\n",
      "enter last name :  reddy\n"
     ]
    },
    {
     "name": "stdout",
     "output_type": "stream",
     "text": [
      "User full name :  mahathi reddy\n",
      "Alternate String :  mhtirdy\n"
     ]
    }
   ],
   "source": [
    "#Enter the first name by user\n",
    "first_name= input(\"enter first name : \")\n",
    "#Enter the last name by user\n",
    "last_name= input(\"enter last name : \")\n",
    "\n",
    "#full_name is both first name and last name\n",
    "def full_name(first_name,last_name):\n",
    "    return first_name +\" \"+last_name\n",
    "#string_alternative function will prints the data alternatively\n",
    "def string_alternative(full_name):\n",
    "    new_str = \"\"\n",
    "    for index in range(0,len(full_name),2):\n",
    "                       new_str+=full_name[index]        \n",
    "    return new_str               \n",
    "\n",
    "\n",
    "print(\"User full name : \",full_name(first_name,last_name))\n",
    "\n",
    "print(\"Alternate String : \",string_alternative(full_name(first_name,last_name)))"
   ]
  },
  {
   "cell_type": "code",
   "execution_count": 3,
   "id": "24c7317b-54b2-4985-9208-802a65cc0eef",
   "metadata": {},
   "outputs": [
    {
     "name": "stdin",
     "output_type": "stream",
     "text": [
      "enter customer heights :  150\n"
     ]
    },
    {
     "name": "stdout",
     "output_type": "stream",
     "text": [
      "show list :  [381.0]\n"
     ]
    }
   ],
   "source": [
    "#Read the input data of customer heights in inches\n",
    "data = input(\"enter customer heights : \")\n",
    "\n",
    "#convert the height of customer in inches to centimeters\n",
    "def inchToCent(value):\n",
    "    return value*2.54\n",
    "\n",
    "heights = data.split()\n",
    "\n",
    "new_list = []\n",
    "\n",
    "for x in heights:\n",
    "    value = int(x)\n",
    "    new_list.append(inchToCent(value))\n",
    "    \n",
    "print(\"show list : \",new_list)"
   ]
  },
  {
   "cell_type": "code",
   "execution_count": null,
   "id": "3de80e71-a0e6-4f0c-9126-5553e18e9de3",
   "metadata": {},
   "outputs": [],
   "source": []
  }
 ],
 "metadata": {
  "kernelspec": {
   "display_name": "Python 3 (ipykernel)",
   "language": "python",
   "name": "python3"
  },
  "language_info": {
   "codemirror_mode": {
    "name": "ipython",
    "version": 3
   },
   "file_extension": ".py",
   "mimetype": "text/x-python",
   "name": "python",
   "nbconvert_exporter": "python",
   "pygments_lexer": "ipython3",
   "version": "3.11.7"
  }
 },
 "nbformat": 4,
 "nbformat_minor": 5
}
